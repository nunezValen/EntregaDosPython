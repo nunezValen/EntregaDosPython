{
 "cells": [
  {
   "cell_type": "code",
   "execution_count": 6,
   "metadata": {},
   "outputs": [],
   "source": [
    "import modulos.funciones as f\n",
    "\n",
    "names = \"\"\" Agustin, Yanina, Andrés, Ariadna, Bautista, CAROLINA,\n",
    "CESAR, David, Diego, Dolores, DYLAN, ELIANA, Emanuel, Fabián, Noelia,\n",
    "Francsica', FEDERICO, Fernanda, GONZALO, Nancy \"\"\"\n",
    "goals = [0, 10, 4, 0, 5, 14, 0, 0, 7, 2, 1, 1, 1, 5, 6, 1, 1, 2, 0,\n",
    "11]\n",
    "goals_avoided = [0, 2, 0, 0, 5, 2, 0, 0, 1, 2, 0, 5, 5, 0, 1, 0, 2,\n",
    "3, 0, 0]\n",
    "assists = [0, 5, 1, 0, 5, 2, 0, 0, 1, 2, 1, 5, 5, 0, 1, 0, 2, 3, 1,\n",
    "0]\n",
    "\n",
    "names=names.replace('\\n','')\n",
    "players_stats=f.generate_player_stats(names.split(\",\"),goals,goals_avoided,assists)"
   ]
  },
  {
   "cell_type": "markdown",
   "metadata": {},
   "source": [
    "Importo las funciones. Creo la variable names, goals, goals_avoided, assists. \n",
    "Luego a la variable names la limpio de los saltos de linea, para que no se vean reflejados al momento de imprimir los nombres. Invoco a la funcion generate_player_stats, la cual creara una lista que contiene diccionarios con las claves: nombres, goles, goles evitados y asistencias y sus valores seran los enviados por parametros."
   ]
  },
  {
   "cell_type": "code",
   "execution_count": 7,
   "metadata": {},
   "outputs": [
    {
     "name": "stdout",
     "output_type": "stream",
     "text": [
      "El goleador/a es  CAROLINA con un total de 14 goles\n"
     ]
    }
   ],
   "source": [
    "goleador=f.find_goleador(players_stats)\n",
    "print(f\"El goleador/a es {goleador['name']} con un total de {goleador['goals']} goles\")\n"
   ]
  },
  {
   "cell_type": "markdown",
   "metadata": {},
   "source": [
    "Creo la variable goleador, la cual tendra el diccionario del jugador con más goles. Para ello invoco a la funcion find_goleador que le envio toda la lista de diccionario y me devuelve un unico diccionario el cual contiene los datos del goleador."
   ]
  },
  {
   "cell_type": "code",
   "execution_count": 8,
   "metadata": {},
   "outputs": [
    {
     "name": "stdout",
     "output_type": "stream",
     "text": [
      "El jugador/a más influyente fue  CAROLINA\n"
     ]
    }
   ],
   "source": [
    "player_most_influential=f.most_influential(players_stats)\n",
    "print(f\"El jugador/a más influyente fue {player_most_influential['name']}\")"
   ]
  },
  {
   "cell_type": "markdown",
   "metadata": {},
   "source": [
    "Creo la variable player_most_influential que invoca a la funcion most_influential la cual devuelve un diccionario que contiene el nombre del jugador más influyente. Luego imprimo solo el nombre."
   ]
  },
  {
   "cell_type": "code",
   "execution_count": 9,
   "metadata": {},
   "outputs": [
    {
     "name": "stdout",
     "output_type": "stream",
     "text": [
      "El promedio de goles por partido fue de 2.84 goles\n"
     ]
    }
   ],
   "source": [
    "games=25\n",
    "promedio=f.get_promedio(players_stats,games)\n",
    "print(f\"El promedio de goles por partido fue de {promedio} goles\")"
   ]
  },
  {
   "cell_type": "markdown",
   "metadata": {},
   "source": [
    "Creo la variable games que contiene la cantidad de partidos jugados y tambien la variable promedio que llama a la funcion get_promedio y luego imprime."
   ]
  },
  {
   "cell_type": "code",
   "execution_count": 10,
   "metadata": {},
   "outputs": [
    {
     "name": "stdout",
     "output_type": "stream",
     "text": [
      "El promedio de goles por partido del goleador fue de 0.56 goles\n"
     ]
    }
   ],
   "source": [
    "promedio_goleador=f.get_promedio_goleador(goleador[\"goals\"],games)\n",
    "print(f\"El promedio de goles por partido del goleador fue de {promedio_goleador} goles\")"
   ]
  },
  {
   "cell_type": "markdown",
   "metadata": {},
   "source": [
    "Creo la variable promedio_goleador el cual invoca a la funcion get_promedio_goleador y luego imprime el resultado."
   ]
  }
 ],
 "metadata": {
  "kernelspec": {
   "display_name": "venv",
   "language": "python",
   "name": "python3"
  },
  "language_info": {
   "codemirror_mode": {
    "name": "ipython",
    "version": 3
   },
   "file_extension": ".py",
   "mimetype": "text/x-python",
   "name": "python",
   "nbconvert_exporter": "python",
   "pygments_lexer": "ipython3",
   "version": "3.11.7"
  }
 },
 "nbformat": 4,
 "nbformat_minor": 2
}

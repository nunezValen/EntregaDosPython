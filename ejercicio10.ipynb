{
 "cells": [
  {
   "cell_type": "code",
   "execution_count": 2,
   "metadata": {},
   "outputs": [],
   "source": [
    "import Modulos.Funciones as F\n",
    "\n",
    "names = \"\"\" Agustin, Yanina, Andrés, Ariadna, Bautista, CAROLINA,\n",
    "CESAR, David, Diego, Dolores, DYLAN, ELIANA, Emanuel, Fabián, Noelia,\n",
    "Francsica', FEDERICO, Fernanda, GONZALO, Nancy \"\"\"\n",
    "goals = [0, 10, 4, 0, 5, 14, 0, 0, 7, 2, 1, 1, 1, 5, 6, 1, 1, 2, 0,\n",
    "11]\n",
    "goals_avoided = [0, 2, 0, 0, 5, 2, 0, 0, 1, 2, 0, 5, 5, 0, 1, 0, 2,\n",
    "3, 0, 0]\n",
    "assists = [0, 5, 1, 0, 5, 2, 0, 0, 1, 2, 1, 5, 5, 0, 1, 0, 2, 3, 1,\n",
    "0]\n",
    "\n",
    "names=names.replace('\\n','')\n",
    "players_stats=F.generate_player_stats(names.split(\",\"),goals,goals_avoided,assists)"
   ]
  },
  {
   "cell_type": "markdown",
   "metadata": {},
   "source": [
    "Importo las funciones. Creo la variable names, goals, goals_avoided, assists. \n",
    "Luego a la variable names la limpio de los saltos de linea, para que no se vean reflejados al momento de imprimir los nombres. Invoco a la funcion generate_player_stats, la cual creara un diccionario con las claves, nombres, goles, goles evitados y asistencias y sus parametros seran los enviados por referencia."
   ]
  },
  {
   "cell_type": "code",
   "execution_count": 3,
   "metadata": {},
   "outputs": [
    {
     "name": "stdout",
     "output_type": "stream",
     "text": [
      "{'name': ' CAROLINA', 'goals': 14, 'goals_avoided': 2, 'assist': 2}\n"
     ]
    }
   ],
   "source": [
    "goleador=F.find_goleador(players_stats)\n",
    "print(goleador)\n"
   ]
  },
  {
   "cell_type": "markdown",
   "metadata": {},
   "source": [
    "Creo la variable goleador, la cual tendra el diccionario del jugador con más goles. Para ello invoco a la funcion find_goleador que le envio toda la lista de diccionario y me devuelve un unico diccionario el cual contiene los datos del goleador."
   ]
  },
  {
   "cell_type": "code",
   "execution_count": 4,
   "metadata": {},
   "outputs": [
    {
     "name": "stdout",
     "output_type": "stream",
     "text": [
      " CAROLINA\n"
     ]
    }
   ],
   "source": [
    "player_most_influential=F.most_influential(players_stats)\n",
    "print(player_most_influential[\"name\"])"
   ]
  },
  {
   "cell_type": "markdown",
   "metadata": {},
   "source": [
    "Creo la variable player_most_influential que invoca a la funcion most_influential la cual devuelve un diccionario que contiene el nombre del jugador más influyente. Luego imprimo solo el nombre."
   ]
  },
  {
   "cell_type": "code",
   "execution_count": 5,
   "metadata": {},
   "outputs": [
    {
     "name": "stdout",
     "output_type": "stream",
     "text": [
      "2.84\n"
     ]
    }
   ],
   "source": [
    "promedio=F.get_promedio(players_stats)\n",
    "print(promedio)"
   ]
  },
  {
   "cell_type": "markdown",
   "metadata": {},
   "source": [
    "Creo la variable promedio que llama a la funcion get_promedio y luego imprime."
   ]
  },
  {
   "cell_type": "code",
   "execution_count": 6,
   "metadata": {},
   "outputs": [
    {
     "name": "stdout",
     "output_type": "stream",
     "text": [
      "0.56\n"
     ]
    }
   ],
   "source": [
    "promedio_goleador=F.get_promedio_goleador(goleador[\"goals\"])\n",
    "print(promedio_goleador)"
   ]
  },
  {
   "cell_type": "markdown",
   "metadata": {},
   "source": [
    "Creo la variable promedio_goleador el cual invoca a la funcion get_promedio_goleador y luego imprime el resultado."
   ]
  }
 ],
 "metadata": {
  "kernelspec": {
   "display_name": "venv",
   "language": "python",
   "name": "python3"
  },
  "language_info": {
   "codemirror_mode": {
    "name": "ipython",
    "version": 3
   },
   "file_extension": ".py",
   "mimetype": "text/x-python",
   "name": "python",
   "nbconvert_exporter": "python",
   "pygments_lexer": "ipython3",
   "version": "3.11.7"
  }
 },
 "nbformat": 4,
 "nbformat_minor": 2
}
